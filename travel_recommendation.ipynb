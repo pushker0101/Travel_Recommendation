{
  "nbformat": 4,
  "nbformat_minor": 0,
  "metadata": {
    "colab": {
      "provenance": []
    },
    "kernelspec": {
      "name": "python3",
      "display_name": "Python 3"
    },
    "language_info": {
      "name": "python"
    }
  },
  "cells": [
    {
      "cell_type": "code",
      "source": [
        "import pandas as pd\n",
        "from sklearn.neighbors import NearestNeighbors\n",
        "from math import radians\n",
        "from sklearn.metrics.pairwise import haversine_distances\n",
        "import numpy as np\n",
        "\n",
        "df = pd.read_csv('step.csv',encoding='latin1')\n",
        "\n",
        "# distance function\n",
        "def calculate_distance(coord1, coord2):\n",
        "    coord1 = [radians(float(x)) for x in coord1.split(',')]\n",
        "    coord2 = [radians(float(x)) for x in coord2.split(',')]\n",
        "    # Calculate distance using haversine formula\n",
        "    distance = haversine_distances([coord1, coord2])\n",
        "    # Convert distance from radians to kilometers\n",
        "    distance_km = distance * 6371000 / 1000  # Earth radius in kilometers\n",
        "    return distance_km[0][1]\n",
        "\n",
        "\n",
        "def train_knn_model(dataset):\n",
        "    X = dataset[['Rating', 'Coordinates']].copy()\n",
        "    X['Latitude'] = X['Coordinates'].apply(lambda x: float(x.split(',')[0]))\n",
        "    X['Longitude'] = X['Coordinates'].apply(lambda x: float(x.split(',')[1]))\n",
        "    X = X[['Rating', 'Latitude', 'Longitude']]\n",
        "    knn_model = NearestNeighbors(n_neighbors=5, metric='euclidean')\n",
        "    knn_model.fit(X)\n",
        "    return knn_model\n",
        "\n",
        "# Recommendation Function\n",
        "def recommend_places_ml(place_name, knn_model, dataset):\n",
        "    place_data = dataset[dataset['DestinationName'] == place_name].iloc[0]\n",
        "    query_point = [[place_data['Rating']] + [float(coord) for coord in place_data['Coordinates'].split(',')]]\n",
        "    distances, indices = knn_model.kneighbors(query_point)\n",
        "    recommendations = dataset.iloc[indices[0][1:]]\n",
        "    # Calculate distances from query point to recommended places\n",
        "    query_coords = [float(coord) for coord in place_data['Coordinates'].split(',')]\n",
        "    recommendations['Distance'] = recommendations['Coordinates'].apply(lambda x: calculate_distance(x, ','.join(map(str, query_coords))))\n",
        "    return recommendations[['DestinationName', 'Rating', 'Distance']]\n",
        "\n",
        "# Usage\n",
        "knn_model = train_knn_model(df)\n",
        "place_name = \"Qutub Minar\"\n",
        "recommended_places = recommend_places_ml(place_name, knn_model, df)\n",
        "print(\"Recommended places around\", place_name, \":\")\n",
        "print(recommended_places)\n"
      ],
      "metadata": {
        "colab": {
          "base_uri": "https://localhost:8080/"
        },
        "id": "Jx0zZJHeh-4m",
        "outputId": "7ba9591e-232b-4878-a571-fde7f94985bd"
      },
      "execution_count": null,
      "outputs": [
        {
          "output_type": "stream",
          "name": "stdout",
          "text": [
            "Recommended places around Qutub Minar :\n",
            "           DestinationName  Rating  Distance\n",
            "39           Gandhi Smriti    0.85  1.551563\n",
            "37            Lodhi Garden    0.85  4.289356\n",
            "36  Gurudwara Bangla Sahib    0.88  4.522220\n",
            "40              Dilli Haat    0.80  3.312473\n"
          ]
        },
        {
          "output_type": "stream",
          "name": "stderr",
          "text": [
            "/usr/local/lib/python3.10/dist-packages/sklearn/base.py:439: UserWarning: X does not have valid feature names, but NearestNeighbors was fitted with feature names\n",
            "  warnings.warn(\n",
            "<ipython-input-5-a2c916cb434e>:37: SettingWithCopyWarning: \n",
            "A value is trying to be set on a copy of a slice from a DataFrame.\n",
            "Try using .loc[row_indexer,col_indexer] = value instead\n",
            "\n",
            "See the caveats in the documentation: https://pandas.pydata.org/pandas-docs/stable/user_guide/indexing.html#returning-a-view-versus-a-copy\n",
            "  recommendations['Distance'] = recommendations['Coordinates'].apply(lambda x: calculate_distance(x, ','.join(map(str, query_coords))))\n"
          ]
        }
      ]
    },
    {
      "cell_type": "code",
      "source": [
        "!pip install haversine"
      ],
      "metadata": {
        "colab": {
          "base_uri": "https://localhost:8080/"
        },
        "id": "EJhCIe8Dk14N",
        "outputId": "fda4b36b-9f29-4891-d0f1-a8779978a414"
      },
      "execution_count": null,
      "outputs": [
        {
          "output_type": "stream",
          "name": "stdout",
          "text": [
            "Collecting haversine\n",
            "  Downloading haversine-2.8.1-py2.py3-none-any.whl (7.7 kB)\n",
            "Installing collected packages: haversine\n",
            "Successfully installed haversine-2.8.1\n"
          ]
        }
      ]
    }
  ]
}